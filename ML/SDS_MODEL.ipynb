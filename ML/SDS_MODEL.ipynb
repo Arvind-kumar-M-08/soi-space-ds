{
  "cells": [
    {
      "cell_type": "code",
      "execution_count": 1,
      "metadata": {
        "id": "TK8vu7LRQPay"
      },
      "outputs": [],
      "source": [
        "#Importing necessary Libraries\n",
        "\n",
        "import pandas as pd\n",
        "import numpy as np\n",
        "import sklearn as skl\n",
        "from sklearn.ensemble import RandomForestClassifier as RFC\n",
        "from sklearn.model_selection import train_test_split\n",
        "from sklearn.neural_network import MLPClassifier\n",
        "from sklearn.preprocessing import StandardScaler\n",
        "from sklearn.metrics import confusion_matrix, classification_report"
      ]
    },
    {
      "cell_type": "code",
      "execution_count": 2,
      "metadata": {
        "id": "mz5mMFjzpcLr"
      },
      "outputs": [],
      "source": [
        "import os"
      ]
    },
    {
      "cell_type": "markdown",
      "metadata": {
        "id": "tad5-KI8ZNgA"
      },
      "source": [
        "## Data reading and preprocessing"
      ]
    },
    {
      "cell_type": "code",
      "execution_count": 3,
      "metadata": {
        "colab": {
          "base_uri": "https://localhost:8080/",
          "height": 437
        },
        "id": "fjP-nm3FQkp9",
        "outputId": "1604f3a4-bdf5-4666-c11f-3f986592856c"
      },
      "outputs": [
        {
          "name": "stdout",
          "output_type": "stream",
          "text": [
            "Index(['tce_period', 'tce_time0bk', 'tce_duration', 'tce_depth',\n",
            "       'tce_model_snr', 'tce_prad', 'tce_eqt', 'tce_steff', 'tce_slogg',\n",
            "       'tce_sradius', 'av_training_set'],\n",
            "      dtype='object')\n"
          ]
        }
      ],
      "source": [
        "data = pd.read_csv(\"data_full.csv\")\n",
        "\n",
        "#Dropping unnecessary columns\n",
        "delete = [\"kepid\",\"tce_plnt_num\",\"tce_rogue_flag\",\"tce_insol\",\"tce_impact\",\"tce_insol_err\",\"tce_period_err\",\"tce_time0bk_err\",\"tce_impact_err\",\"tce_duration_err\",\"tce_depth_err\",\"tce_prad_err\",\"tce_eqt_err\",\"tce_eqt_err\",\"tce_steff_err\",\"tce_slogg_err\",\"tce_sradius_err\"]\n",
        "data_new = data.drop(delete,axis=1)\n",
        "\n",
        "#Deleting rows having unknown labels\n",
        "data_new = data_new[data_new['av_training_set'] != 'UNK']\n",
        "\n",
        "#Deleting rows having no values\n",
        "data_new.dropna(subset=['tce_period', 'tce_time0bk', 'tce_duration', 'tce_depth',\n",
        "       'tce_model_snr', 'tce_prad', 'tce_eqt', 'tce_steff', 'tce_slogg',\n",
        "       'tce_sradius', 'av_training_set'], inplace=True) \n",
        "\n",
        "print(data_new.columns)"
      ]
    },
    {
      "cell_type": "code",
      "execution_count": 4,
      "metadata": {
        "colab": {
          "base_uri": "https://localhost:8080/"
        },
        "id": "sWnADvmoLVQB",
        "outputId": "79d698df-a55e-40bb-ce9a-e8bbdedae109"
      },
      "outputs": [
        {
          "name": "stdout",
          "output_type": "stream",
          "text": [
            "['AFP' 'UNK' 'PC' 'NTP']\n"
          ]
        }
      ],
      "source": [
        "a = data['av_training_set'].unique()\n",
        "print(a)"
      ]
    },
    {
      "cell_type": "code",
      "execution_count": 5,
      "metadata": {
        "id": "ezuUoTLF1iM7"
      },
      "outputs": [],
      "source": [
        "#Train and test split\n",
        "Y = data_new.iloc[:,-1]\n",
        "X = data_new.iloc[:,:-1]\n",
        "\n",
        "train_X, test_X, train_Y, test_Y = train_test_split(X,Y,test_size = 0.15)\n"
      ]
    },
    {
      "cell_type": "markdown",
      "metadata": {
        "id": "DpuarzXmaFoc"
      },
      "source": [
        "## Random Forest Classifier"
      ]
    },
    {
      "cell_type": "code",
      "execution_count": 6,
      "metadata": {
        "colab": {
          "base_uri": "https://localhost:8080/"
        },
        "id": "sO93m08mzN2U",
        "outputId": "b9d61478-59f6-4c4e-9a2c-0708a678ba14"
      },
      "outputs": [
        {
          "data": {
            "text/html": [
              "<style>#sk-container-id-1 {color: black;background-color: white;}#sk-container-id-1 pre{padding: 0;}#sk-container-id-1 div.sk-toggleable {background-color: white;}#sk-container-id-1 label.sk-toggleable__label {cursor: pointer;display: block;width: 100%;margin-bottom: 0;padding: 0.3em;box-sizing: border-box;text-align: center;}#sk-container-id-1 label.sk-toggleable__label-arrow:before {content: \"▸\";float: left;margin-right: 0.25em;color: #696969;}#sk-container-id-1 label.sk-toggleable__label-arrow:hover:before {color: black;}#sk-container-id-1 div.sk-estimator:hover label.sk-toggleable__label-arrow:before {color: black;}#sk-container-id-1 div.sk-toggleable__content {max-height: 0;max-width: 0;overflow: hidden;text-align: left;background-color: #f0f8ff;}#sk-container-id-1 div.sk-toggleable__content pre {margin: 0.2em;color: black;border-radius: 0.25em;background-color: #f0f8ff;}#sk-container-id-1 input.sk-toggleable__control:checked~div.sk-toggleable__content {max-height: 200px;max-width: 100%;overflow: auto;}#sk-container-id-1 input.sk-toggleable__control:checked~label.sk-toggleable__label-arrow:before {content: \"▾\";}#sk-container-id-1 div.sk-estimator input.sk-toggleable__control:checked~label.sk-toggleable__label {background-color: #d4ebff;}#sk-container-id-1 div.sk-label input.sk-toggleable__control:checked~label.sk-toggleable__label {background-color: #d4ebff;}#sk-container-id-1 input.sk-hidden--visually {border: 0;clip: rect(1px 1px 1px 1px);clip: rect(1px, 1px, 1px, 1px);height: 1px;margin: -1px;overflow: hidden;padding: 0;position: absolute;width: 1px;}#sk-container-id-1 div.sk-estimator {font-family: monospace;background-color: #f0f8ff;border: 1px dotted black;border-radius: 0.25em;box-sizing: border-box;margin-bottom: 0.5em;}#sk-container-id-1 div.sk-estimator:hover {background-color: #d4ebff;}#sk-container-id-1 div.sk-parallel-item::after {content: \"\";width: 100%;border-bottom: 1px solid gray;flex-grow: 1;}#sk-container-id-1 div.sk-label:hover label.sk-toggleable__label {background-color: #d4ebff;}#sk-container-id-1 div.sk-serial::before {content: \"\";position: absolute;border-left: 1px solid gray;box-sizing: border-box;top: 0;bottom: 0;left: 50%;z-index: 0;}#sk-container-id-1 div.sk-serial {display: flex;flex-direction: column;align-items: center;background-color: white;padding-right: 0.2em;padding-left: 0.2em;position: relative;}#sk-container-id-1 div.sk-item {position: relative;z-index: 1;}#sk-container-id-1 div.sk-parallel {display: flex;align-items: stretch;justify-content: center;background-color: white;position: relative;}#sk-container-id-1 div.sk-item::before, #sk-container-id-1 div.sk-parallel-item::before {content: \"\";position: absolute;border-left: 1px solid gray;box-sizing: border-box;top: 0;bottom: 0;left: 50%;z-index: -1;}#sk-container-id-1 div.sk-parallel-item {display: flex;flex-direction: column;z-index: 1;position: relative;background-color: white;}#sk-container-id-1 div.sk-parallel-item:first-child::after {align-self: flex-end;width: 50%;}#sk-container-id-1 div.sk-parallel-item:last-child::after {align-self: flex-start;width: 50%;}#sk-container-id-1 div.sk-parallel-item:only-child::after {width: 0;}#sk-container-id-1 div.sk-dashed-wrapped {border: 1px dashed gray;margin: 0 0.4em 0.5em 0.4em;box-sizing: border-box;padding-bottom: 0.4em;background-color: white;}#sk-container-id-1 div.sk-label label {font-family: monospace;font-weight: bold;display: inline-block;line-height: 1.2em;}#sk-container-id-1 div.sk-label-container {text-align: center;}#sk-container-id-1 div.sk-container {/* jupyter's `normalize.less` sets `[hidden] { display: none; }` but bootstrap.min.css set `[hidden] { display: none !important; }` so we also need the `!important` here to be able to override the default hidden behavior on the sphinx rendered scikit-learn.org. See: https://github.com/scikit-learn/scikit-learn/issues/21755 */display: inline-block !important;position: relative;}#sk-container-id-1 div.sk-text-repr-fallback {display: none;}</style><div id=\"sk-container-id-1\" class=\"sk-top-container\"><div class=\"sk-text-repr-fallback\"><pre>RandomForestClassifier(n_estimators=13000)</pre><b>In a Jupyter environment, please rerun this cell to show the HTML representation or trust the notebook. <br />On GitHub, the HTML representation is unable to render, please try loading this page with nbviewer.org.</b></div><div class=\"sk-container\" hidden><div class=\"sk-item\"><div class=\"sk-estimator sk-toggleable\"><input class=\"sk-toggleable__control sk-hidden--visually\" id=\"sk-estimator-id-1\" type=\"checkbox\" checked><label for=\"sk-estimator-id-1\" class=\"sk-toggleable__label sk-toggleable__label-arrow\">RandomForestClassifier</label><div class=\"sk-toggleable__content\"><pre>RandomForestClassifier(n_estimators=13000)</pre></div></div></div></div></div>"
            ],
            "text/plain": [
              "RandomForestClassifier(n_estimators=13000)"
            ]
          },
          "execution_count": 6,
          "metadata": {},
          "output_type": "execute_result"
        }
      ],
      "source": [
        "model = RFC(n_estimators=13000)\n",
        "model.fit(train_X,train_Y)"
      ]
    },
    {
      "cell_type": "code",
      "execution_count": 7,
      "metadata": {
        "colab": {
          "base_uri": "https://localhost:8080/"
        },
        "id": "9fohvL0pQpE-",
        "outputId": "087a94a4-dc54-41c1-9aad-8a8b704f5bb1"
      },
      "outputs": [
        {
          "data": {
            "text/plain": [
              "1.0"
            ]
          },
          "execution_count": 7,
          "metadata": {},
          "output_type": "execute_result"
        }
      ],
      "source": [
        "model.score(train_X,train_Y)"
      ]
    },
    {
      "cell_type": "code",
      "execution_count": 8,
      "metadata": {
        "colab": {
          "base_uri": "https://localhost:8080/"
        },
        "id": "IKIz_dwA4RaF",
        "outputId": "2c16ac72-c0f4-42d4-bfc5-bfe08ac4511f"
      },
      "outputs": [
        {
          "data": {
            "text/plain": [
              "0.8026260059296908"
            ]
          },
          "execution_count": 8,
          "metadata": {},
          "output_type": "execute_result"
        }
      ],
      "source": [
        "model.score(test_X,test_Y)"
      ]
    },
    {
      "cell_type": "code",
      "execution_count": 9,
      "metadata": {
        "id": "5_EVg7Iui91f"
      },
      "outputs": [],
      "source": [
        "pred_Y = model.predict(test_X)"
      ]
    },
    {
      "cell_type": "code",
      "execution_count": 10,
      "metadata": {
        "colab": {
          "base_uri": "https://localhost:8080/",
          "height": 185
        },
        "id": "0EODo2OEjChj",
        "outputId": "130f606d-e12e-4f44-83c7-9a50961ad172"
      },
      "outputs": [
        {
          "data": {
            "text/plain": [
              "array([[1304,   17,   96],\n",
              "       [ 260,  133,    3],\n",
              "       [  89,    1,  458]])"
            ]
          },
          "execution_count": 10,
          "metadata": {},
          "output_type": "execute_result"
        }
      ],
      "source": [
        "cm = confusion_matrix(test_Y, pred_Y)\n",
        "cm"
      ]
    },
    {
      "cell_type": "code",
      "execution_count": 11,
      "metadata": {
        "colab": {
          "base_uri": "https://localhost:8080/",
          "height": 91
        },
        "id": "kD1H536QF4g1",
        "outputId": "d0284234-3fd2-4711-c8b2-fc4c86ee9f7d"
      },
      "outputs": [
        {
          "data": {
            "text/plain": [
              "'              precision    recall  f1-score   support\\n\\n         AFP       0.79      0.92      0.85      1417\\n         NTP       0.88      0.34      0.49       396\\n          PC       0.82      0.84      0.83       548\\n\\n    accuracy                           0.80      2361\\n   macro avg       0.83      0.70      0.72      2361\\nweighted avg       0.81      0.80      0.78      2361\\n'"
            ]
          },
          "execution_count": 11,
          "metadata": {},
          "output_type": "execute_result"
        }
      ],
      "source": [
        "classification_report(test_Y, pred_Y)"
      ]
    },
    {
      "cell_type": "code",
      "execution_count": 12,
      "metadata": {
        "id": "2CcTRCshTu4f"
      },
      "outputs": [],
      "source": [
        "import pickle\n",
        "filename = \"rfc.pkl\"\n",
        "with open(filename,\"wb\") as f:\n",
        "  pickle.dump(model,f)"
      ]
    },
    {
      "cell_type": "markdown",
      "metadata": {
        "id": "bFZs5r6sd55U"
      },
      "source": [
        "## Neural Network"
      ]
    },
    {
      "cell_type": "code",
      "execution_count": null,
      "metadata": {
        "id": "Pp01GYxD9332"
      },
      "outputs": [],
      "source": [
        "#Normalising train set\n",
        "scaler = StandardScaler().fit(train_X)\n"
      ]
    },
    {
      "cell_type": "code",
      "execution_count": null,
      "metadata": {
        "colab": {
          "base_uri": "https://localhost:8080/"
        },
        "id": "SQy0Gr8M7LPN",
        "outputId": "ce898857-c800-4b70-f199-368613856d54"
      },
      "outputs": [
        {
          "data": {
            "text/plain": [
              "MLPClassifier(hidden_layer_sizes=(64, 64, 64))"
            ]
          },
          "execution_count": 9,
          "metadata": {},
          "output_type": "execute_result"
        }
      ],
      "source": [
        "neural = MLPClassifier(hidden_layer_sizes=(64,64,64))\n",
        "neural.fit(train_X,train_Y)"
      ]
    },
    {
      "cell_type": "code",
      "execution_count": null,
      "metadata": {
        "colab": {
          "base_uri": "https://localhost:8080/"
        },
        "id": "m4iYPAbk72A0",
        "outputId": "1255cc1b-49a8-4c05-ff45-ed0e6fccec1e"
      },
      "outputs": [
        {
          "data": {
            "text/plain": [
              "0.7716058612440191"
            ]
          },
          "execution_count": 10,
          "metadata": {},
          "output_type": "execute_result"
        }
      ],
      "source": [
        "neural.score(train_X,train_Y)\n"
      ]
    },
    {
      "cell_type": "code",
      "execution_count": null,
      "metadata": {
        "colab": {
          "base_uri": "https://localhost:8080/"
        },
        "id": "3ARLq2nDeVh_",
        "outputId": "7fa2b149-427b-4e7b-8cd2-4a99c4ef59cc"
      },
      "outputs": [
        {
          "data": {
            "text/plain": [
              "0.7657772130453198"
            ]
          },
          "execution_count": 11,
          "metadata": {},
          "output_type": "execute_result"
        }
      ],
      "source": [
        "neural.score(test_X,test_Y)"
      ]
    },
    {
      "cell_type": "code",
      "execution_count": null,
      "metadata": {
        "id": "bT2y3l42l5zo"
      },
      "outputs": [],
      "source": [
        "nue_pred = neural.predict(test_X)"
      ]
    },
    {
      "cell_type": "code",
      "execution_count": null,
      "metadata": {
        "id": "zJDgvydFl_Wn"
      },
      "outputs": [
        {
          "data": {
            "text/plain": [
              "array([[1262,   12,  176],\n",
              "       [ 292,   88,   13],\n",
              "       [  58,    2,  458]])"
            ]
          },
          "execution_count": 13,
          "metadata": {},
          "output_type": "execute_result"
        }
      ],
      "source": [
        "cm_n = confusion_matrix(test_Y, nue_pred)\n",
        "cm_n"
      ]
    },
    {
      "cell_type": "code",
      "execution_count": null,
      "metadata": {
        "colab": {
          "base_uri": "https://localhost:8080/"
        },
        "id": "wYFCk2T6QEfr",
        "outputId": "9882db05-2ded-417c-dffc-b4637e993483"
      },
      "outputs": [
        {
          "name": "stdout",
          "output_type": "stream",
          "text": [
            "              precision    recall  f1-score   support\n",
            "\n",
            "         AFP       0.78      0.87      0.82      1450\n",
            "         NTP       0.86      0.22      0.36       393\n",
            "          PC       0.71      0.88      0.79       518\n",
            "\n",
            "    accuracy                           0.77      2361\n",
            "   macro avg       0.78      0.66      0.66      2361\n",
            "weighted avg       0.78      0.77      0.74      2361\n",
            "\n"
          ]
        }
      ],
      "source": [
        "print(classification_report(test_Y, nue_pred))"
      ]
    },
    {
      "cell_type": "code",
      "execution_count": null,
      "metadata": {
        "colab": {
          "base_uri": "https://localhost:8080/"
        },
        "id": "NaQEKSLzmTS9",
        "outputId": "8d70c0e9-a69b-4f1f-9bcc-626a54797e01"
      },
      "outputs": [
        {
          "data": {
            "text/plain": [
              "array([[1247,    6,  171],\n",
              "       [ 298,   57,   11],\n",
              "       [  94,    1,  476]])"
            ]
          },
          "execution_count": 56,
          "metadata": {},
          "output_type": "execute_result"
        }
      ],
      "source": [
        "import pickle\n",
        "filename = \"nnc.pkl\"\n",
        "with open(filename,\"wb\") as f:\n",
        "  pickle.dump(model,f)"
      ]
    },
    {
      "cell_type": "code",
      "execution_count": null,
      "metadata": {
        "id": "msdrN-utmT-u"
      },
      "outputs": [],
      "source": []
    }
  ],
  "metadata": {
    "colab": {
      "collapsed_sections": [],
      "name": "SDS_MODEL.ipynb",
      "provenance": []
    },
    "kernelspec": {
      "display_name": "Python 3.8.10 ('.env': venv)",
      "language": "python",
      "name": "python3"
    },
    "language_info": {
      "codemirror_mode": {
        "name": "ipython",
        "version": 3
      },
      "file_extension": ".py",
      "mimetype": "text/x-python",
      "name": "python",
      "nbconvert_exporter": "python",
      "pygments_lexer": "ipython3",
      "version": "3.8.10"
    },
    "vscode": {
      "interpreter": {
        "hash": "75a91b926afe7ee4b5e5298ea12a93280135b0bc68847aadc0134580691c3b66"
      }
    }
  },
  "nbformat": 4,
  "nbformat_minor": 0
}
